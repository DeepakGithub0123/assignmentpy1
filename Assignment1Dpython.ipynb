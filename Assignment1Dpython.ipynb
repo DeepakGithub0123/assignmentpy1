{
 "cells": [
  {
   "cell_type": "code",
   "execution_count": null,
   "id": "f4e8a8f9",
   "metadata": {},
   "outputs": [],
   "source": [
    "#1. In the below elements which of them are values or an expression? eg:- values can be integer or string and expressions will be mathematical operators.\n",
    "*  \n",
    "'hello'\n",
    "-87.8\n",
    "- \n",
    "/ \n",
    "+\t\n",
    "6 \n",
    "'''Ans : Values = 'hello',-87.8,6 \n",
    "       expression = *,-,/,+'''"
   ]
  },
  {
   "cell_type": "code",
   "execution_count": null,
   "id": "970933b5",
   "metadata": {},
   "outputs": [],
   "source": [
    "#2. What is the difference between string and variable?\n",
    "Ans = A Variable is used to store of information, and a String is\n",
    "a type of information you would store in a Variable.\n",
    "A String is a group of characters or a single character\n",
    "usually enclosed in Double quotes \" \" or single quotes ' '."
   ]
  },
  {
   "cell_type": "code",
   "execution_count": null,
   "id": "25b27f1e",
   "metadata": {},
   "outputs": [],
   "source": [
    "\n",
    "#3. Describe three different data types.\n",
    "Ans = The three different data types are integer, float and complex\n",
    "1. Integer data type : We can use integer data type to represent whole number(integral values).\n",
    "2. float data type : We can use float data type to represent floating point values (decimal values).\n",
    "3. complex data type : Complex number is represented by complex class, It is specified by (real part)+(imaginary part)j.\n"
   ]
  },
  {
   "cell_type": "code",
   "execution_count": 3,
   "id": "f3e42c2d",
   "metadata": {},
   "outputs": [
    {
     "name": "stdout",
     "output_type": "stream",
     "text": [
      "354654\n",
      "14.5\n",
      "(3+4j)\n"
     ]
    }
   ],
   "source": [
    "#eg for integer data\n",
    "int = 354654\n",
    "print (int)\n",
    "#eg for float data\n",
    "float = 14.5\n",
    "print (float)\n",
    "#eg for complex data\n",
    "complex = 3+4j\n",
    "print (complex)"
   ]
  },
  {
   "cell_type": "code",
   "execution_count": null,
   "id": "8c421f39",
   "metadata": {},
   "outputs": [],
   "source": [
    "#4. What is an expression made up of? What do all expressions\n",
    "Ans = An expression is combination of values,variable,operators and calls to function. Expression need to be evaluated.\n",
    "If we ask Python to print an expression, entrepretor evaluates the expression and displays the result."
   ]
  },
  {
   "cell_type": "code",
   "execution_count": 8,
   "id": "1ac970ff",
   "metadata": {},
   "outputs": [
    {
     "data": {
      "text/plain": [
       "0"
      ]
     },
     "execution_count": 8,
     "metadata": {},
     "output_type": "execute_result"
    }
   ],
   "source": [
    "#eg for all some expression and their result\n",
    "5*4+20-40"
   ]
  },
  {
   "cell_type": "code",
   "execution_count": 13,
   "id": "c9218173",
   "metadata": {},
   "outputs": [
    {
     "name": "stdout",
     "output_type": "stream",
     "text": [
      "Hello World !\n"
     ]
    }
   ],
   "source": [
    "#5. This assignment statements, like spam = 10. What is the difference between an expression and a statement?\n",
    "'''Ans = An expression is a combination of values, variable, and operators. When we type an expression at the prompt, the \n",
    "entrpreters evaluates it, which means it finds the value of expression\n",
    "\n",
    "eg. 4*5+20-40 is an eg of statement \n",
    "\n",
    "A statement is a unit of code that has an effect, like creating a variable or displaying a value.When we type a statement,\n",
    "the interpreter executes it, which means that it does whatever the statement says. In general, statements don’t have values.\n",
    "\n",
    "eg: variable declaration and assignment are statements because they do not return a value.\n",
    "'''\n",
    "#Example:\n",
    "4*5+20-40 # Is a Expression\n",
    "courseName = 'INeuron FullStack DataScience' # Is a Statement\n",
    "print(\"Hello World !\") # Is a Expression Statement"
   ]
  },
  {
   "cell_type": "code",
   "execution_count": 1,
   "id": "afd3c3bb",
   "metadata": {},
   "outputs": [
    {
     "data": {
      "text/plain": [
       "23"
      ]
     },
     "execution_count": 1,
     "metadata": {},
     "output_type": "execute_result"
    }
   ],
   "source": [
    "#6 After running the following code, what does the variable bacon contain?\n",
    "bacon = 22\n",
    "bacon + 1\n"
   ]
  },
  {
   "cell_type": "code",
   "execution_count": null,
   "id": "d4583cca",
   "metadata": {},
   "outputs": [],
   "source": [
    "Ans = The variable  bacon contain 23  as per the given code."
   ]
  },
  {
   "cell_type": "code",
   "execution_count": 2,
   "id": "f92f33b9",
   "metadata": {},
   "outputs": [
    {
     "data": {
      "text/plain": [
       "'spamspamspam'"
      ]
     },
     "execution_count": 2,
     "metadata": {},
     "output_type": "execute_result"
    }
   ],
   "source": [
    "#7. What should the values of the following two terms be?\n",
    "'spam' + 'spamspam'\n",
    "'spam' * 3"
   ]
  },
  {
   "cell_type": "code",
   "execution_count": null,
   "id": "0c827285",
   "metadata": {},
   "outputs": [],
   "source": [
    "Ans = The values of given two terms is 'spamspamspam'."
   ]
  },
  {
   "cell_type": "code",
   "execution_count": 8,
   "id": "26b94aa3",
   "metadata": {},
   "outputs": [
    {
     "ename": "SyntaxError",
     "evalue": "cannot assign to literal (Temp/ipykernel_28432/2296138319.py, line 10)",
     "output_type": "error",
     "traceback": [
      "\u001b[1;36m  File \u001b[1;32m\"C:\\Users\\Deepak\\AppData\\Local\\Temp/ipykernel_28432/2296138319.py\"\u001b[1;36m, line \u001b[1;32m10\u001b[0m\n\u001b[1;33m    100 = \"deep\"\u001b[0m\n\u001b[1;37m    ^\u001b[0m\n\u001b[1;31mSyntaxError\u001b[0m\u001b[1;31m:\u001b[0m cannot assign to literal\n"
     ]
    }
   ],
   "source": [
    "#8. Why is eggs a valid variable name while 100 is invalid?\n",
    "'''Ans = As per python,Variable names cannot begin with a number. The python rules for naming a variable are :-\n",
    "\n",
    "1.Variable name must start with a letter or the underscore character.\n",
    "2.Variable name cannot start with a number.\n",
    "3.Variable name can only contain alpha-numeric characters and underscores (A-z, 0-9, & _ ).\n",
    "4.Variable names are case-sensitive (name, INEURON and ineuron are three different variables).\n",
    "5.The reserved words(keywords) cannot be used naming the variable.'''\n",
    "\n",
    "#example\n",
    "eggs = \"ineuron\" 3\n",
    "100 = \"deep\"\n",
    "print (eggs)\n",
    "print (100)"
   ]
  },
  {
   "cell_type": "code",
   "execution_count": null,
   "id": "2ee07967",
   "metadata": {},
   "outputs": [],
   "source": [
    "#9. What three functions can be used to get the integer, floating-point number, or string version of a value?\n",
    "'''Ans= int(),float(),str()'''"
   ]
  },
  {
   "cell_type": "code",
   "execution_count": 1,
   "id": "1138e30e",
   "metadata": {},
   "outputs": [
    {
     "ename": "TypeError",
     "evalue": "can only concatenate str (not \"int\") to str",
     "output_type": "error",
     "traceback": [
      "\u001b[1;31m---------------------------------------------------------------------------\u001b[0m",
      "\u001b[1;31mTypeError\u001b[0m                                 Traceback (most recent call last)",
      "\u001b[1;32m~\\AppData\\Local\\Temp/ipykernel_24528/3650978176.py\u001b[0m in \u001b[0;36m<module>\u001b[1;34m\u001b[0m\n\u001b[0;32m      1\u001b[0m \u001b[1;31m#10. Why does this expression cause an error? How can you fix it?\u001b[0m\u001b[1;33m\u001b[0m\u001b[1;33m\u001b[0m\u001b[0m\n\u001b[1;32m----> 2\u001b[1;33m \u001b[1;34m'I have eaten '\u001b[0m \u001b[1;33m+\u001b[0m \u001b[1;36m99\u001b[0m \u001b[1;33m+\u001b[0m \u001b[1;34m' burritos.'\u001b[0m\u001b[1;33m\u001b[0m\u001b[1;33m\u001b[0m\u001b[0m\n\u001b[0m",
      "\u001b[1;31mTypeError\u001b[0m: can only concatenate str (not \"int\") to str"
     ]
    }
   ],
   "source": [
    "#10. Why does this expression cause an error? How can you fix it?\n",
    "'I have eaten ' + 99 + ' burritos.'\n"
   ]
  },
  {
   "cell_type": "code",
   "execution_count": 7,
   "id": "66afecac",
   "metadata": {},
   "outputs": [
    {
     "data": {
      "text/plain": [
       "'i have eaten 99 burritos'"
      ]
     },
     "execution_count": 7,
     "metadata": {},
     "output_type": "execute_result"
    }
   ],
   "source": [
    "'i have eaten ' +  str (99)  + ' burritos'"
   ]
  },
  {
   "cell_type": "code",
   "execution_count": null,
   "id": "86f2d228",
   "metadata": {},
   "outputs": [],
   "source": [
    "Ans = Because 99 is not a string  . The correct code is \"i have eaten \" + str (99) + \" burritos\""
   ]
  }
 ],
 "metadata": {
  "kernelspec": {
   "display_name": "Python 3 (ipykernel)",
   "language": "python",
   "name": "python3"
  },
  "language_info": {
   "codemirror_mode": {
    "name": "ipython",
    "version": 3
   },
   "file_extension": ".py",
   "mimetype": "text/x-python",
   "name": "python",
   "nbconvert_exporter": "python",
   "pygments_lexer": "ipython3",
   "version": "3.9.7"
  }
 },
 "nbformat": 4,
 "nbformat_minor": 5
}
